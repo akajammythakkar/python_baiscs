{
 "cells": [
  {
   "cell_type": "markdown",
   "id": "046c5e5e",
   "metadata": {},
   "source": [
    "# Exploring Basic Data Types in Python"
   ]
  },
  {
   "cell_type": "markdown",
   "id": "809f0211",
   "metadata": {},
   "source": [
    "\n",
    "This notebook explores basic data types in Python: **int**, **float**, **str**, **bool**, and **NoneType**. \n",
    "We will discuss their characteristics and common use cases.\n"
   ]
  },
  {
   "cell_type": "markdown",
   "id": "993db22f",
   "metadata": {},
   "source": [
    "### Integer (`int`)"
   ]
  },
  {
   "cell_type": "code",
   "execution_count": 1,
   "id": "df3e4b35",
   "metadata": {},
   "outputs": [
    {
     "name": "stdout",
     "output_type": "stream",
     "text": [
      "x is of type <class 'int'> and its value is 42\n",
      "Counter is initialized to 10\n"
     ]
    }
   ],
   "source": [
    "# Integer Example\n",
    "x = 42\n",
    "print(f\"x is of type {type(x)} and its value is {x}\")\n",
    "\n",
    "# Common Use Case: Counting or indexing\n",
    "counter = 10\n",
    "print(f\"Counter is initialized to {counter}\")"
   ]
  },
  {
   "cell_type": "markdown",
   "id": "711f6473",
   "metadata": {},
   "source": [
    "### Floating-Point Number (`float`)"
   ]
  },
  {
   "cell_type": "code",
   "execution_count": 2,
   "id": "24613a90",
   "metadata": {},
   "outputs": [
    {
     "name": "stdout",
     "output_type": "stream",
     "text": [
      "pi is of type <class 'float'> and its value is 3.14159\n",
      "The temperature is 36.6°C\n"
     ]
    }
   ],
   "source": [
    "# Float Example\n",
    "pi = 3.14159\n",
    "print(f\"pi is of type {type(pi)} and its value is {pi}\")\n",
    "\n",
    "# Common Use Case: Representing real numbers, such as measurements\n",
    "temperature = 36.6\n",
    "print(f\"The temperature is {temperature}°C\")"
   ]
  },
  {
   "cell_type": "markdown",
   "id": "4a6de196",
   "metadata": {},
   "source": [
    "### String (`str`)"
   ]
  },
  {
   "cell_type": "code",
   "execution_count": 3,
   "id": "0d090ce2",
   "metadata": {},
   "outputs": [
    {
     "name": "stdout",
     "output_type": "stream",
     "text": [
      "greeting is of type <class 'str'> and its value is 'Hello, World!'\n",
      "Welcome, Alice!\n"
     ]
    }
   ],
   "source": [
    "# String Example\n",
    "greeting = \"Hello, World!\"\n",
    "print(f\"greeting is of type {type(greeting)} and its value is '{greeting}'\")\n",
    "\n",
    "# Common Use Case: Storing text data\n",
    "name = \"Alice\"\n",
    "print(f\"Welcome, {name}!\")"
   ]
  },
  {
   "cell_type": "markdown",
   "id": "6303e5e5",
   "metadata": {},
   "source": [
    "### Boolean (`bool`)"
   ]
  },
  {
   "cell_type": "code",
   "execution_count": 6,
   "id": "87afd327",
   "metadata": {},
   "outputs": [
    {
     "name": "stdout",
     "output_type": "stream",
     "text": [
      "is_sunny is of type <class 'bool'> and its value is True\n",
      "Is the person an adult? False\n"
     ]
    }
   ],
   "source": [
    "# Boolean Example\n",
    "is_sunny = True\n",
    "print(f\"is_sunny is of type {type(is_sunny)} and its value is {is_sunny}\")\n",
    "\n",
    "# Common Use Case: Logical conditions\n",
    "age = 12\n",
    "is_adult = age >= 18 \n",
    "print(f\"Is the person an adult? {is_adult}\")"
   ]
  },
  {
   "cell_type": "markdown",
   "id": "2a8f686a",
   "metadata": {},
   "source": [
    "### NoneType (`None`)"
   ]
  },
  {
   "cell_type": "code",
   "execution_count": 7,
   "id": "6377a34d",
   "metadata": {},
   "outputs": [
    {
     "name": "stdout",
     "output_type": "stream",
     "text": [
      "result is of type <class 'NoneType'> and its value is None\n",
      "User preference: None\n"
     ]
    }
   ],
   "source": [
    "# NoneType Example\n",
    "result = None\n",
    "print(f\"result is of type {type(result)} and its value is {result}\")\n",
    "\n",
    "# Common Use Case: Representing a null or undefined value\n",
    "def get_user_preference():\n",
    "    1\n",
    "    # return None  # No preference set\n",
    "\n",
    "preference = get_user_preference()\n",
    "print(f\"User preference: {preference}\")"
   ]
  },
  {
   "cell_type": "markdown",
   "id": "a50e5436",
   "metadata": {},
   "source": [
    "\n",
    "### Summary\n",
    "\n",
    "These basic data types are foundational to Python programming and are used to represent numbers, text, logical values, or the absence of a value. Understanding their properties helps in writing clear and efficient code.\n"
   ]
  },
  {
   "cell_type": "code",
   "execution_count": null,
   "id": "0b951442-1829-4236-abaa-3fe1709986b5",
   "metadata": {},
   "outputs": [],
   "source": []
  }
 ],
 "metadata": {
  "kernelspec": {
   "display_name": "Python 3 (ipykernel)",
   "language": "python",
   "name": "python3"
  },
  "language_info": {
   "codemirror_mode": {
    "name": "ipython",
    "version": 3
   },
   "file_extension": ".py",
   "mimetype": "text/x-python",
   "name": "python",
   "nbconvert_exporter": "python",
   "pygments_lexer": "ipython3",
   "version": "3.12.7"
  }
 },
 "nbformat": 4,
 "nbformat_minor": 5
}
